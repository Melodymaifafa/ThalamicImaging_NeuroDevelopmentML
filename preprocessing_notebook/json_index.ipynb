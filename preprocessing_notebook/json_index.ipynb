{
 "cells": [
  {
   "cell_type": "code",
   "execution_count": 1,
   "metadata": {},
   "outputs": [],
   "source": [
    "import json\n",
    "import os\n",
    "import numpy as np"
   ]
  },
  {
   "cell_type": "code",
   "execution_count": 2,
   "metadata": {},
   "outputs": [],
   "source": [
    "with open('data/ADHD-28.json') as f:\n",
    "    data = json.load(f)"
   ]
  },
  {
   "cell_type": "code",
   "execution_count": 3,
   "metadata": {},
   "outputs": [
    {
     "data": {
      "text/plain": [
       "dict_keys(['images', 'categories', 'annotations'])"
      ]
     },
     "execution_count": 3,
     "metadata": {},
     "output_type": "execute_result"
    }
   ],
   "source": [
    "data.keys()"
   ]
  },
  {
   "cell_type": "code",
   "execution_count": 7,
   "metadata": {},
   "outputs": [
    {
     "data": {
      "text/plain": [
       "{'id': 10415,\n",
       " 'dataset_id': 18,\n",
       " 'category_ids': [],\n",
       " 'path': '/datasets/ADHD/images/P0001_morph1_00000023.png',\n",
       " 'width': 1024,\n",
       " 'height': 693,\n",
       " 'file_name': 'P0001_morph1_00000023.png',\n",
       " 'annotated': False,\n",
       " 'annotating': [],\n",
       " 'num_annotations': 0,\n",
       " 'metadata': {},\n",
       " 'deleted': False,\n",
       " 'milliseconds': 0,\n",
       " 'events': [],\n",
       " 'regenerate_thumbnail': False}"
      ]
     },
     "execution_count": 7,
     "metadata": {},
     "output_type": "execute_result"
    }
   ],
   "source": [
    "data['images'][0]"
   ]
  },
  {
   "cell_type": "code",
   "execution_count": 4,
   "metadata": {},
   "outputs": [
    {
     "data": {
      "text/plain": [
       "dict_keys(['id', 'dataset_id', 'category_ids', 'path', 'width', 'height', 'file_name', 'annotated', 'annotating', 'num_annotations', 'metadata', 'deleted', 'milliseconds', 'events', 'regenerate_thumbnail'])"
      ]
     },
     "execution_count": 4,
     "metadata": {},
     "output_type": "execute_result"
    }
   ],
   "source": [
    "data['images'][0].keys()"
   ]
  },
  {
   "cell_type": "code",
   "execution_count": 8,
   "metadata": {},
   "outputs": [
    {
     "data": {
      "text/plain": [
       "[{'id': 5,\n",
       "  'name': 'thalamus',\n",
       "  'supercategory': 'foetal us',\n",
       "  'color': '#212121',\n",
       "  'metadata': {},\n",
       "  'keypoint_colors': ['#ffff00', '#ffff00'],\n",
       "  'keypoints': ['point a', 'point b'],\n",
       "  'skeleton': [[1, 2]]}]"
      ]
     },
     "execution_count": 8,
     "metadata": {},
     "output_type": "execute_result"
    }
   ],
   "source": [
    "data['categories']"
   ]
  },
  {
   "cell_type": "code",
   "execution_count": 9,
   "metadata": {},
   "outputs": [
    {
     "data": {
      "text/plain": [
       "[{'id': 11820,\n",
       "  'image_id': 10415,\n",
       "  'category_id': 5,\n",
       "  'segmentation': [[481.0, 299.0, 449.3, 329.3, 441.4, 309.6, 482.3, 296.4],\n",
       "   [498.1, 361.0, 457.2, 376.8, 454.6, 354.4, 494.2, 359.7]],\n",
       "  'area': 964,\n",
       "  'bbox': [442.0, 297.0, 55.0, 80.0],\n",
       "  'iscrowd': False,\n",
       "  'isbbox': False,\n",
       "  'color': '#0bc629',\n",
       "  'metadata': {}},\n",
       " {'id': 11824,\n",
       "  'image_id': 10416,\n",
       "  'category_id': 5,\n",
       "  'segmentation': [[556.4,\n",
       "    300.7,\n",
       "    559.4,\n",
       "    302.4,\n",
       "    560.5,\n",
       "    305.6,\n",
       "    559.4,\n",
       "    312.1,\n",
       "    553.3,\n",
       "    315.0,\n",
       "    543.4,\n",
       "    315.0,\n",
       "    539.9,\n",
       "    313.5,\n",
       "    538.4,\n",
       "    307.8,\n",
       "    545.7,\n",
       "    296.3,\n",
       "    550.0,\n",
       "    295.1,\n",
       "    554.1,\n",
       "    297.2,\n",
       "    556.0,\n",
       "    300.1],\n",
       "   [557.7,\n",
       "    328.1,\n",
       "    564.6,\n",
       "    329.6,\n",
       "    566.0,\n",
       "    333.1,\n",
       "    564.9,\n",
       "    337.3,\n",
       "    555.2,\n",
       "    348.1,\n",
       "    551.1,\n",
       "    350.2,\n",
       "    546.5,\n",
       "    348.7,\n",
       "    545.0,\n",
       "    343.0,\n",
       "    548.3,\n",
       "    334.4,\n",
       "    551.3,\n",
       "    329.2,\n",
       "    557.2,\n",
       "    328.1]],\n",
       "  'area': 623,\n",
       "  'bbox': [539.0, 295.0, 27.0, 55.0],\n",
       "  'iscrowd': False,\n",
       "  'isbbox': False,\n",
       "  'color': '#5dfde9',\n",
       "  'metadata': {}},\n",
       " {'id': 11827,\n",
       "  'image_id': 10417,\n",
       "  'category_id': 5,\n",
       "  'segmentation': [[488.5,\n",
       "    296.5,\n",
       "    489.5,\n",
       "    303.5,\n",
       "    481.5,\n",
       "    303.5,\n",
       "    474.5,\n",
       "    306.5,\n",
       "    463.5,\n",
       "    306.5,\n",
       "    459.5,\n",
       "    307.5,\n",
       "    458.5,\n",
       "    309.5,\n",
       "    450.5,\n",
       "    309.5,\n",
       "    442.5,\n",
       "    304.5,\n",
       "    442.5,\n",
       "    302.5,\n",
       "    457.5,\n",
       "    300.5,\n",
       "    461.5,\n",
       "    299.5,\n",
       "    462.5,\n",
       "    297.5,\n",
       "    471.5,\n",
       "    298.5,\n",
       "    475.5,\n",
       "    296.5],\n",
       "   [481.5,\n",
       "    323.5,\n",
       "    480.5,\n",
       "    325.5,\n",
       "    482.5,\n",
       "    326.5,\n",
       "    482.5,\n",
       "    334.5,\n",
       "    477.9,\n",
       "    336.5,\n",
       "    475.5,\n",
       "    339.5,\n",
       "    469.5,\n",
       "    339.5,\n",
       "    466.5,\n",
       "    344.5,\n",
       "    448.5,\n",
       "    343.5,\n",
       "    450.5,\n",
       "    342.5,\n",
       "    449.5,\n",
       "    340.5,\n",
       "    452.5,\n",
       "    337.5,\n",
       "    452.5,\n",
       "    335.5,\n",
       "    455.5,\n",
       "    335.5,\n",
       "    460.5,\n",
       "    332.5,\n",
       "    461.5,\n",
       "    325.5,\n",
       "    473.5,\n",
       "    325.5,\n",
       "    473.5,\n",
       "    323.5],\n",
       "   [616.5,\n",
       "    474.5,\n",
       "    617.5,\n",
       "    476.5,\n",
       "    620.5,\n",
       "    475.5,\n",
       "    621.5,\n",
       "    478.5,\n",
       "    630.5,\n",
       "    478.5,\n",
       "    624.5,\n",
       "    481.5,\n",
       "    617.5,\n",
       "    481.5,\n",
       "    616.5,\n",
       "    483.5,\n",
       "    615.5,\n",
       "    482.5,\n",
       "    614.5,\n",
       "    484.5,\n",
       "    618.5,\n",
       "    485.5,\n",
       "    609.5,\n",
       "    489.5,\n",
       "    602.5,\n",
       "    496.5,\n",
       "    602.5,\n",
       "    488.5,\n",
       "    608.5,\n",
       "    486.5,\n",
       "    608.5,\n",
       "    481.5,\n",
       "    615.5,\n",
       "    474.5],\n",
       "   [734.5,\n",
       "    393.5,\n",
       "    736.5,\n",
       "    396.5,\n",
       "    736.5,\n",
       "    403.5,\n",
       "    725.5,\n",
       "    406.5,\n",
       "    722.5,\n",
       "    409.5,\n",
       "    714.5,\n",
       "    409.5,\n",
       "    714.5,\n",
       "    406.5,\n",
       "    723.5,\n",
       "    405.5,\n",
       "    728.5,\n",
       "    402.5,\n",
       "    727.5,\n",
       "    393.5]],\n",
       "  'area': 1070,\n",
       "  'bbox': [443.0, 297.0, 294.0, 199.0],\n",
       "  'iscrowd': False,\n",
       "  'isbbox': False,\n",
       "  'color': '#29fb83',\n",
       "  'metadata': {}}]"
      ]
     },
     "execution_count": 9,
     "metadata": {},
     "output_type": "execute_result"
    }
   ],
   "source": [
    "data['annotations']"
   ]
  },
  {
   "cell_type": "code",
   "execution_count": null,
   "metadata": {},
   "outputs": [],
   "source": []
  }
 ],
 "metadata": {
  "kernelspec": {
   "display_name": "Ultrasound",
   "language": "python",
   "name": "python3"
  },
  "language_info": {
   "codemirror_mode": {
    "name": "ipython",
    "version": 3
   },
   "file_extension": ".py",
   "mimetype": "text/x-python",
   "name": "python",
   "nbconvert_exporter": "python",
   "pygments_lexer": "ipython3",
   "version": "3.11.8"
  }
 },
 "nbformat": 4,
 "nbformat_minor": 2
}
