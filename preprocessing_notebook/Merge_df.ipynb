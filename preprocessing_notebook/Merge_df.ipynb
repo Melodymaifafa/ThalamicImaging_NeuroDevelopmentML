{
 "cells": [
  {
   "cell_type": "code",
   "execution_count": 1,
   "metadata": {},
   "outputs": [],
   "source": [
    "import pandas as pd\n",
    "import numpy as np"
   ]
  },
  {
   "cell_type": "code",
   "execution_count": 2,
   "metadata": {},
   "outputs": [],
   "source": [
    "thalamus = pd.read_excel('thalamus_echogenicity_feature.xlsx')\n",
    "cerebellum = pd.read_excel('cerebellum_echogenicity_feature.xlsx')\n",
    "bayley = pd.read_csv('BIIICss_patients.csv')"
   ]
  },
  {
   "cell_type": "code",
   "execution_count": 4,
   "metadata": {},
   "outputs": [
    {
     "data": {
      "text/plain": [
       "(264, 87)"
      ]
     },
     "execution_count": 4,
     "metadata": {},
     "output_type": "execute_result"
    }
   ],
   "source": [
    "thalamus.shape"
   ]
  },
  {
   "cell_type": "code",
   "execution_count": 5,
   "metadata": {},
   "outputs": [
    {
     "data": {
      "text/plain": [
       "(264, 87)"
      ]
     },
     "execution_count": 5,
     "metadata": {},
     "output_type": "execute_result"
    }
   ],
   "source": [
    "cerebellum.shape"
   ]
  },
  {
   "cell_type": "code",
   "execution_count": 3,
   "metadata": {},
   "outputs": [],
   "source": [
    "normalized_thalamus = thalamus.drop('img_name',axis=1)/cerebellum.drop('img_name',axis=1)"
   ]
  },
  {
   "cell_type": "code",
   "execution_count": 6,
   "metadata": {},
   "outputs": [],
   "source": [
    "normalized_thalamus['img_name'] = thalamus['img_name']"
   ]
  },
  {
   "cell_type": "code",
   "execution_count": 7,
   "metadata": {},
   "outputs": [],
   "source": [
    "normalized_thalamus.fillna(0,inplace=True)"
   ]
  },
  {
   "cell_type": "code",
   "execution_count": 8,
   "metadata": {},
   "outputs": [
    {
     "data": {
      "text/plain": [
       "Index(['Unnamed: 0', 'index', 'PNG_Path', 'PatientID', 'Guitar', 'Guitar_BBOX',\n",
       "       'CSP', 'CSP_BBOX', '2nd_Filter', 'PNG_Name', 'Key_Points',\n",
       "       'ThalamusDiameter', 'gestage', 'birthweight', 'BIIICss', 'BIIIRss',\n",
       "       'BIIIEss'],\n",
       "      dtype='object')"
      ]
     },
     "execution_count": 8,
     "metadata": {},
     "output_type": "execute_result"
    }
   ],
   "source": [
    "bayley.columns"
   ]
  },
  {
   "cell_type": "code",
   "execution_count": 9,
   "metadata": {},
   "outputs": [
    {
     "data": {
      "text/plain": [
       "Index(['PNG_Name', 'ThalamusDiameter', 'gestage', 'birthweight', 'BIIICss',\n",
       "       'BIIIRss', 'BIIIEss'],\n",
       "      dtype='object')"
      ]
     },
     "execution_count": 9,
     "metadata": {},
     "output_type": "execute_result"
    }
   ],
   "source": [
    "bayley = bayley[['PNG_Name','ThalamusDiameter', 'gestage', 'birthweight', 'BIIICss', 'BIIIRss',\n",
    "       'BIIIEss']]\n",
    "bayley.columns"
   ]
  },
  {
   "cell_type": "markdown",
   "metadata": {},
   "source": [
    "Merge the normalized_thalamus feature with bayley score"
   ]
  },
  {
   "cell_type": "code",
   "execution_count": 10,
   "metadata": {},
   "outputs": [],
   "source": [
    "normalized_thalamus_echo = normalized_thalamus.merge(bayley,left_on='img_name', right_on= 'PNG_Name',how='left')\n"
   ]
  },
  {
   "cell_type": "code",
   "execution_count": 13,
   "metadata": {},
   "outputs": [
    {
     "data": {
      "text/html": [
       "<div>\n",
       "<style scoped>\n",
       "    .dataframe tbody tr th:only-of-type {\n",
       "        vertical-align: middle;\n",
       "    }\n",
       "\n",
       "    .dataframe tbody tr th {\n",
       "        vertical-align: top;\n",
       "    }\n",
       "\n",
       "    .dataframe thead th {\n",
       "        text-align: right;\n",
       "    }\n",
       "</style>\n",
       "<table border=\"1\" class=\"dataframe\">\n",
       "  <thead>\n",
       "    <tr style=\"text-align: right;\">\n",
       "      <th></th>\n",
       "      <th>original_firstorder_10Percentile</th>\n",
       "      <th>original_firstorder_90Percentile</th>\n",
       "      <th>original_firstorder_Energy</th>\n",
       "      <th>original_firstorder_Entropy</th>\n",
       "      <th>original_firstorder_InterquartileRange</th>\n",
       "      <th>original_firstorder_Kurtosis</th>\n",
       "      <th>original_firstorder_Maximum</th>\n",
       "      <th>original_firstorder_MeanAbsoluteDeviation</th>\n",
       "      <th>original_firstorder_Mean</th>\n",
       "      <th>original_firstorder_Median</th>\n",
       "      <th>...</th>\n",
       "      <th>original_gldm_SmallDependenceHighGrayLevelEmphasis</th>\n",
       "      <th>original_gldm_SmallDependenceLowGrayLevelEmphasis</th>\n",
       "      <th>img_name</th>\n",
       "      <th>PNG_Name</th>\n",
       "      <th>ThalamusDiameter</th>\n",
       "      <th>gestage</th>\n",
       "      <th>birthweight</th>\n",
       "      <th>BIIICss</th>\n",
       "      <th>BIIIRss</th>\n",
       "      <th>BIIIEss</th>\n",
       "    </tr>\n",
       "  </thead>\n",
       "  <tbody>\n",
       "    <tr>\n",
       "      <th>0</th>\n",
       "      <td>0.000000</td>\n",
       "      <td>0.909091</td>\n",
       "      <td>0.269524</td>\n",
       "      <td>0.631531</td>\n",
       "      <td>1.625000</td>\n",
       "      <td>0.478382</td>\n",
       "      <td>0.611940</td>\n",
       "      <td>0.931239</td>\n",
       "      <td>0.920346</td>\n",
       "      <td>0.000000</td>\n",
       "      <td>...</td>\n",
       "      <td>0.776599</td>\n",
       "      <td>1.209950</td>\n",
       "      <td>P0006_morph1_0000000D.png</td>\n",
       "      <td>P0006_morph1_0000000D.png</td>\n",
       "      <td>1.837605</td>\n",
       "      <td>280.0</td>\n",
       "      <td>3520.0</td>\n",
       "      <td>11.0</td>\n",
       "      <td>11.0</td>\n",
       "      <td>7.0</td>\n",
       "    </tr>\n",
       "    <tr>\n",
       "      <th>1</th>\n",
       "      <td>0.000000</td>\n",
       "      <td>1.470588</td>\n",
       "      <td>0.901686</td>\n",
       "      <td>2.306074</td>\n",
       "      <td>2.166667</td>\n",
       "      <td>0.745679</td>\n",
       "      <td>1.102564</td>\n",
       "      <td>1.480720</td>\n",
       "      <td>1.491054</td>\n",
       "      <td>1.000000</td>\n",
       "      <td>...</td>\n",
       "      <td>1.453139</td>\n",
       "      <td>1.159204</td>\n",
       "      <td>P0015_morph1_0000000A.png</td>\n",
       "      <td>P0015_morph1_0000000A.png</td>\n",
       "      <td>1.886982</td>\n",
       "      <td>252.0</td>\n",
       "      <td>2750.0</td>\n",
       "      <td>11.0</td>\n",
       "      <td>NaN</td>\n",
       "      <td>12.0</td>\n",
       "    </tr>\n",
       "    <tr>\n",
       "      <th>2</th>\n",
       "      <td>0.083333</td>\n",
       "      <td>0.322917</td>\n",
       "      <td>0.062617</td>\n",
       "      <td>0.368451</td>\n",
       "      <td>0.263158</td>\n",
       "      <td>2.905412</td>\n",
       "      <td>0.495868</td>\n",
       "      <td>0.350758</td>\n",
       "      <td>0.277235</td>\n",
       "      <td>0.177778</td>\n",
       "      <td>...</td>\n",
       "      <td>0.191408</td>\n",
       "      <td>1.882688</td>\n",
       "      <td>P0020_morph1_00000001.png</td>\n",
       "      <td>P0020_morph1_00000001.png</td>\n",
       "      <td>1.921918</td>\n",
       "      <td>280.0</td>\n",
       "      <td>3175.0</td>\n",
       "      <td>16.0</td>\n",
       "      <td>16.0</td>\n",
       "      <td>15.0</td>\n",
       "    </tr>\n",
       "    <tr>\n",
       "      <th>3</th>\n",
       "      <td>inf</td>\n",
       "      <td>0.842105</td>\n",
       "      <td>0.185012</td>\n",
       "      <td>1.112407</td>\n",
       "      <td>0.764706</td>\n",
       "      <td>0.916183</td>\n",
       "      <td>0.714286</td>\n",
       "      <td>0.761554</td>\n",
       "      <td>1.327636</td>\n",
       "      <td>1.416667</td>\n",
       "      <td>...</td>\n",
       "      <td>1.817935</td>\n",
       "      <td>1.482688</td>\n",
       "      <td>P0020_morph1_00000002.png</td>\n",
       "      <td>P0020_morph1_00000002.png</td>\n",
       "      <td>1.700615</td>\n",
       "      <td>280.0</td>\n",
       "      <td>3175.0</td>\n",
       "      <td>16.0</td>\n",
       "      <td>16.0</td>\n",
       "      <td>15.0</td>\n",
       "    </tr>\n",
       "    <tr>\n",
       "      <th>4</th>\n",
       "      <td>inf</td>\n",
       "      <td>1.717949</td>\n",
       "      <td>0.966781</td>\n",
       "      <td>2.019003</td>\n",
       "      <td>1.823529</td>\n",
       "      <td>1.420889</td>\n",
       "      <td>1.986111</td>\n",
       "      <td>1.531226</td>\n",
       "      <td>2.517518</td>\n",
       "      <td>3.875000</td>\n",
       "      <td>...</td>\n",
       "      <td>7.107370</td>\n",
       "      <td>0.978049</td>\n",
       "      <td>P0020_morph1_00000003.png</td>\n",
       "      <td>P0020_morph1_00000003.png</td>\n",
       "      <td>1.806750</td>\n",
       "      <td>280.0</td>\n",
       "      <td>3175.0</td>\n",
       "      <td>16.0</td>\n",
       "      <td>16.0</td>\n",
       "      <td>15.0</td>\n",
       "    </tr>\n",
       "  </tbody>\n",
       "</table>\n",
       "<p>5 rows × 94 columns</p>\n",
       "</div>"
      ],
      "text/plain": [
       "   original_firstorder_10Percentile  original_firstorder_90Percentile  \\\n",
       "0                          0.000000                          0.909091   \n",
       "1                          0.000000                          1.470588   \n",
       "2                          0.083333                          0.322917   \n",
       "3                               inf                          0.842105   \n",
       "4                               inf                          1.717949   \n",
       "\n",
       "   original_firstorder_Energy  original_firstorder_Entropy  \\\n",
       "0                    0.269524                     0.631531   \n",
       "1                    0.901686                     2.306074   \n",
       "2                    0.062617                     0.368451   \n",
       "3                    0.185012                     1.112407   \n",
       "4                    0.966781                     2.019003   \n",
       "\n",
       "   original_firstorder_InterquartileRange  original_firstorder_Kurtosis  \\\n",
       "0                                1.625000                      0.478382   \n",
       "1                                2.166667                      0.745679   \n",
       "2                                0.263158                      2.905412   \n",
       "3                                0.764706                      0.916183   \n",
       "4                                1.823529                      1.420889   \n",
       "\n",
       "   original_firstorder_Maximum  original_firstorder_MeanAbsoluteDeviation  \\\n",
       "0                     0.611940                                   0.931239   \n",
       "1                     1.102564                                   1.480720   \n",
       "2                     0.495868                                   0.350758   \n",
       "3                     0.714286                                   0.761554   \n",
       "4                     1.986111                                   1.531226   \n",
       "\n",
       "   original_firstorder_Mean  original_firstorder_Median  ...  \\\n",
       "0                  0.920346                    0.000000  ...   \n",
       "1                  1.491054                    1.000000  ...   \n",
       "2                  0.277235                    0.177778  ...   \n",
       "3                  1.327636                    1.416667  ...   \n",
       "4                  2.517518                    3.875000  ...   \n",
       "\n",
       "   original_gldm_SmallDependenceHighGrayLevelEmphasis  \\\n",
       "0                                           0.776599    \n",
       "1                                           1.453139    \n",
       "2                                           0.191408    \n",
       "3                                           1.817935    \n",
       "4                                           7.107370    \n",
       "\n",
       "   original_gldm_SmallDependenceLowGrayLevelEmphasis  \\\n",
       "0                                           1.209950   \n",
       "1                                           1.159204   \n",
       "2                                           1.882688   \n",
       "3                                           1.482688   \n",
       "4                                           0.978049   \n",
       "\n",
       "                    img_name                   PNG_Name  ThalamusDiameter  \\\n",
       "0  P0006_morph1_0000000D.png  P0006_morph1_0000000D.png          1.837605   \n",
       "1  P0015_morph1_0000000A.png  P0015_morph1_0000000A.png          1.886982   \n",
       "2  P0020_morph1_00000001.png  P0020_morph1_00000001.png          1.921918   \n",
       "3  P0020_morph1_00000002.png  P0020_morph1_00000002.png          1.700615   \n",
       "4  P0020_morph1_00000003.png  P0020_morph1_00000003.png          1.806750   \n",
       "\n",
       "   gestage  birthweight  BIIICss  BIIIRss  BIIIEss  \n",
       "0    280.0       3520.0     11.0     11.0      7.0  \n",
       "1    252.0       2750.0     11.0      NaN     12.0  \n",
       "2    280.0       3175.0     16.0     16.0     15.0  \n",
       "3    280.0       3175.0     16.0     16.0     15.0  \n",
       "4    280.0       3175.0     16.0     16.0     15.0  \n",
       "\n",
       "[5 rows x 94 columns]"
      ]
     },
     "execution_count": 13,
     "metadata": {},
     "output_type": "execute_result"
    }
   ],
   "source": [
    "normalized_thalamus_echo.head()"
   ]
  },
  {
   "cell_type": "code",
   "execution_count": 17,
   "metadata": {},
   "outputs": [],
   "source": [
    "normalized_thalamus_echo.drop('PNG_Name',axis=1,inplace=True)\n",
    "normalized_thalamus_echo.to_csv('normalized_feature_regression.csv',index=False)"
   ]
  },
  {
   "cell_type": "markdown",
   "metadata": {},
   "source": [
    "Merge the thalamus feture with the bayley score"
   ]
  },
  {
   "cell_type": "code",
   "execution_count": 18,
   "metadata": {},
   "outputs": [],
   "source": [
    "thalamus = thalamus.merge(bayley,left_on='img_name', right_on= 'PNG_Name',how='left')\n",
    "thalamus.drop('PNG_Name',axis=1,inplace=True)\n",
    "thalamus.to_csv('thalamus_feature_regression.csv',index=False)"
   ]
  }
 ],
 "metadata": {
  "kernelspec": {
   "display_name": "Ultrasound",
   "language": "python",
   "name": "python3"
  },
  "language_info": {
   "codemirror_mode": {
    "name": "ipython",
    "version": 3
   },
   "file_extension": ".py",
   "mimetype": "text/x-python",
   "name": "python",
   "nbconvert_exporter": "python",
   "pygments_lexer": "ipython3",
   "version": "3.11.8"
  }
 },
 "nbformat": 4,
 "nbformat_minor": 2
}
