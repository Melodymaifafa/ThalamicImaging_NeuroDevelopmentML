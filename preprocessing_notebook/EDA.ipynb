{
 "cells": [
  {
   "cell_type": "code",
   "execution_count": 1,
   "metadata": {},
   "outputs": [],
   "source": [
    "import matplotlib.pyplot as plt\n",
    "import seaborn as sns\n",
    "import pandas as pd\n",
    "import numpy as np\n"
   ]
  },
  {
   "cell_type": "code",
   "execution_count": 3,
   "metadata": {},
   "outputs": [
    {
     "data": {
      "text/html": [
       "<div>\n",
       "<style scoped>\n",
       "    .dataframe tbody tr th:only-of-type {\n",
       "        vertical-align: middle;\n",
       "    }\n",
       "\n",
       "    .dataframe tbody tr th {\n",
       "        vertical-align: top;\n",
       "    }\n",
       "\n",
       "    .dataframe thead th {\n",
       "        text-align: right;\n",
       "    }\n",
       "</style>\n",
       "<table border=\"1\" class=\"dataframe\">\n",
       "  <thead>\n",
       "    <tr style=\"text-align: right;\">\n",
       "      <th></th>\n",
       "      <th>Unnamed: 0</th>\n",
       "      <th>index</th>\n",
       "      <th>PNG_Path</th>\n",
       "      <th>PatientID</th>\n",
       "      <th>Guitar</th>\n",
       "      <th>Guitar_BBOX</th>\n",
       "      <th>CSP</th>\n",
       "      <th>CSP_BBOX</th>\n",
       "      <th>2nd_Filter</th>\n",
       "      <th>PNG_Name</th>\n",
       "      <th>Key_Points</th>\n",
       "      <th>ThalamusDiameter</th>\n",
       "      <th>gestage</th>\n",
       "      <th>birthweight</th>\n",
       "      <th>BIIICss</th>\n",
       "      <th>BIIIRss</th>\n",
       "      <th>BIIIEss</th>\n",
       "    </tr>\n",
       "  </thead>\n",
       "  <tbody>\n",
       "    <tr>\n",
       "      <th>0</th>\n",
       "      <td>2</td>\n",
       "      <td>4</td>\n",
       "      <td>/mnt/Ben/TD-Measuring/Implementation/Images//P...</td>\n",
       "      <td>187.0</td>\n",
       "      <td>0.999705</td>\n",
       "      <td>[415;220;222;205]</td>\n",
       "      <td>NaN</td>\n",
       "      <td>NaN</td>\n",
       "      <td>Guitar</td>\n",
       "      <td>P0187_morph1_00000056.png</td>\n",
       "      <td>[390.2525939941406;391.0625;428.380859375;242....</td>\n",
       "      <td>1.829664</td>\n",
       "      <td>263.0</td>\n",
       "      <td>3170.0</td>\n",
       "      <td>12.0</td>\n",
       "      <td>13.0</td>\n",
       "      <td>12.0</td>\n",
       "    </tr>\n",
       "    <tr>\n",
       "      <th>1</th>\n",
       "      <td>5</td>\n",
       "      <td>7</td>\n",
       "      <td>/mnt/Ben/TD-Measuring/Implementation/Images//P...</td>\n",
       "      <td>323.0</td>\n",
       "      <td>0.886847</td>\n",
       "      <td>[495;257;192;177]</td>\n",
       "      <td>NaN</td>\n",
       "      <td>NaN</td>\n",
       "      <td>Guitar</td>\n",
       "      <td>P0323_morph1_0000002E.png</td>\n",
       "      <td>[532.677734375;431.4225158691406;505.320953369...</td>\n",
       "      <td>1.683674</td>\n",
       "      <td>256.0</td>\n",
       "      <td>2910.0</td>\n",
       "      <td>13.0</td>\n",
       "      <td>13.0</td>\n",
       "      <td>NaN</td>\n",
       "    </tr>\n",
       "    <tr>\n",
       "      <th>2</th>\n",
       "      <td>11</td>\n",
       "      <td>13</td>\n",
       "      <td>/mnt/Ben/TD-Measuring/Implementation/Images//P...</td>\n",
       "      <td>112.0</td>\n",
       "      <td>0.998660</td>\n",
       "      <td>[352;253;233;204]</td>\n",
       "      <td>NaN</td>\n",
       "      <td>NaN</td>\n",
       "      <td>Guitar</td>\n",
       "      <td>P0112_morph1_00000028.png</td>\n",
       "      <td>[384.171875;294.8385314941406;393.234375;438.3...</td>\n",
       "      <td>1.756738</td>\n",
       "      <td>273.0</td>\n",
       "      <td>3610.0</td>\n",
       "      <td>7.0</td>\n",
       "      <td>7.0</td>\n",
       "      <td>10.0</td>\n",
       "    </tr>\n",
       "    <tr>\n",
       "      <th>3</th>\n",
       "      <td>12</td>\n",
       "      <td>14</td>\n",
       "      <td>/mnt/Ben/TD-Measuring/Implementation/Images//P...</td>\n",
       "      <td>748.0</td>\n",
       "      <td>0.999772</td>\n",
       "      <td>[335;241;263;240]</td>\n",
       "      <td>NaN</td>\n",
       "      <td>NaN</td>\n",
       "      <td>Guitar</td>\n",
       "      <td>P0748_morph1_0000000E.png</td>\n",
       "      <td>[378.1549377441406;455.16796875;337.2174377441...</td>\n",
       "      <td>1.879344</td>\n",
       "      <td>289.0</td>\n",
       "      <td>3900.0</td>\n",
       "      <td>9.0</td>\n",
       "      <td>12.0</td>\n",
       "      <td>9.0</td>\n",
       "    </tr>\n",
       "    <tr>\n",
       "      <th>4</th>\n",
       "      <td>16</td>\n",
       "      <td>19</td>\n",
       "      <td>/mnt/Ben/TD-Measuring/Implementation/Images//P...</td>\n",
       "      <td>281.0</td>\n",
       "      <td>0.999836</td>\n",
       "      <td>[413;229;248;220]</td>\n",
       "      <td>NaN</td>\n",
       "      <td>NaN</td>\n",
       "      <td>Guitar</td>\n",
       "      <td>P0281_morph1_00000028.png</td>\n",
       "      <td>[637.0045776367188;283.021484375;612.883483886...</td>\n",
       "      <td>1.835604</td>\n",
       "      <td>260.0</td>\n",
       "      <td>2990.0</td>\n",
       "      <td>13.0</td>\n",
       "      <td>14.0</td>\n",
       "      <td>17.0</td>\n",
       "    </tr>\n",
       "  </tbody>\n",
       "</table>\n",
       "</div>"
      ],
      "text/plain": [
       "   Unnamed: 0  index                                           PNG_Path  \\\n",
       "0           2      4  /mnt/Ben/TD-Measuring/Implementation/Images//P...   \n",
       "1           5      7  /mnt/Ben/TD-Measuring/Implementation/Images//P...   \n",
       "2          11     13  /mnt/Ben/TD-Measuring/Implementation/Images//P...   \n",
       "3          12     14  /mnt/Ben/TD-Measuring/Implementation/Images//P...   \n",
       "4          16     19  /mnt/Ben/TD-Measuring/Implementation/Images//P...   \n",
       "\n",
       "   PatientID    Guitar        Guitar_BBOX  CSP CSP_BBOX 2nd_Filter  \\\n",
       "0      187.0  0.999705  [415;220;222;205]  NaN      NaN     Guitar   \n",
       "1      323.0  0.886847  [495;257;192;177]  NaN      NaN     Guitar   \n",
       "2      112.0  0.998660  [352;253;233;204]  NaN      NaN     Guitar   \n",
       "3      748.0  0.999772  [335;241;263;240]  NaN      NaN     Guitar   \n",
       "4      281.0  0.999836  [413;229;248;220]  NaN      NaN     Guitar   \n",
       "\n",
       "                    PNG_Name  \\\n",
       "0  P0187_morph1_00000056.png   \n",
       "1  P0323_morph1_0000002E.png   \n",
       "2  P0112_morph1_00000028.png   \n",
       "3  P0748_morph1_0000000E.png   \n",
       "4  P0281_morph1_00000028.png   \n",
       "\n",
       "                                          Key_Points  ThalamusDiameter  \\\n",
       "0  [390.2525939941406;391.0625;428.380859375;242....          1.829664   \n",
       "1  [532.677734375;431.4225158691406;505.320953369...          1.683674   \n",
       "2  [384.171875;294.8385314941406;393.234375;438.3...          1.756738   \n",
       "3  [378.1549377441406;455.16796875;337.2174377441...          1.879344   \n",
       "4  [637.0045776367188;283.021484375;612.883483886...          1.835604   \n",
       "\n",
       "   gestage  birthweight  BIIICss  BIIIRss  BIIIEss  \n",
       "0    263.0       3170.0     12.0     13.0     12.0  \n",
       "1    256.0       2910.0     13.0     13.0      NaN  \n",
       "2    273.0       3610.0      7.0      7.0     10.0  \n",
       "3    289.0       3900.0      9.0     12.0      9.0  \n",
       "4    260.0       2990.0     13.0     14.0     17.0  "
      ]
     },
     "execution_count": 3,
     "metadata": {},
     "output_type": "execute_result"
    }
   ],
   "source": [
    "cognitive = pd.read_csv('BIIICss_patients.csv')\n",
    "cognitive.head()"
   ]
  },
  {
   "cell_type": "code",
   "execution_count": 9,
   "metadata": {},
   "outputs": [],
   "source": [
    "Bayley = cognitive[['BIIICss','BIIIRss','BIIIEss']]\n",
    "Bayley.columns = ['Cognitive','Receptive Language','Expressive Language']"
   ]
  },
  {
   "cell_type": "code",
   "execution_count": 11,
   "metadata": {},
   "outputs": [
    {
     "data": {
      "text/html": [
       "<style type=\"text/css\">\n",
       "#T_97cba_row0_col0, #T_97cba_row1_col1, #T_97cba_row2_col2 {\n",
       "  background-color: #3f007d;\n",
       "  color: #f1f1f1;\n",
       "}\n",
       "#T_97cba_row0_col1, #T_97cba_row0_col2, #T_97cba_row2_col0 {\n",
       "  background-color: #fcfbfd;\n",
       "  color: #000000;\n",
       "}\n",
       "#T_97cba_row1_col0 {\n",
       "  background-color: #fbfafc;\n",
       "  color: #000000;\n",
       "}\n",
       "#T_97cba_row1_col2 {\n",
       "  background-color: #dedeed;\n",
       "  color: #000000;\n",
       "}\n",
       "#T_97cba_row2_col1 {\n",
       "  background-color: #e0e0ee;\n",
       "  color: #000000;\n",
       "}\n",
       "</style>\n",
       "<table id=\"T_97cba\">\n",
       "  <thead>\n",
       "    <tr>\n",
       "      <th class=\"blank level0\" >&nbsp;</th>\n",
       "      <th id=\"T_97cba_level0_col0\" class=\"col_heading level0 col0\" >Cognitive</th>\n",
       "      <th id=\"T_97cba_level0_col1\" class=\"col_heading level0 col1\" >Receptive Language</th>\n",
       "      <th id=\"T_97cba_level0_col2\" class=\"col_heading level0 col2\" >Expressive Language</th>\n",
       "    </tr>\n",
       "  </thead>\n",
       "  <tbody>\n",
       "    <tr>\n",
       "      <th id=\"T_97cba_level0_row0\" class=\"row_heading level0 row0\" >Cognitive</th>\n",
       "      <td id=\"T_97cba_row0_col0\" class=\"data row0 col0\" >1.000000</td>\n",
       "      <td id=\"T_97cba_row0_col1\" class=\"data row0 col1\" >0.526815</td>\n",
       "      <td id=\"T_97cba_row0_col2\" class=\"data row0 col2\" >0.520141</td>\n",
       "    </tr>\n",
       "    <tr>\n",
       "      <th id=\"T_97cba_level0_row1\" class=\"row_heading level0 row1\" >Receptive Language</th>\n",
       "      <td id=\"T_97cba_row1_col0\" class=\"data row1 col0\" >0.526815</td>\n",
       "      <td id=\"T_97cba_row1_col1\" class=\"data row1 col1\" >1.000000</td>\n",
       "      <td id=\"T_97cba_row1_col2\" class=\"data row1 col2\" >0.627396</td>\n",
       "    </tr>\n",
       "    <tr>\n",
       "      <th id=\"T_97cba_level0_row2\" class=\"row_heading level0 row2\" >Expressive Language</th>\n",
       "      <td id=\"T_97cba_row2_col0\" class=\"data row2 col0\" >0.520141</td>\n",
       "      <td id=\"T_97cba_row2_col1\" class=\"data row2 col1\" >0.627396</td>\n",
       "      <td id=\"T_97cba_row2_col2\" class=\"data row2 col2\" >1.000000</td>\n",
       "    </tr>\n",
       "  </tbody>\n",
       "</table>\n"
      ],
      "text/plain": [
       "<pandas.io.formats.style.Styler at 0x179ea5ed0>"
      ]
     },
     "execution_count": 11,
     "metadata": {},
     "output_type": "execute_result"
    }
   ],
   "source": [
    "Bayley.corr().style.background_gradient(cmap='Purples')"
   ]
  },
  {
   "cell_type": "code",
   "execution_count": 17,
   "metadata": {},
   "outputs": [
    {
     "data": {
      "text/html": [
       "<div>\n",
       "<style scoped>\n",
       "    .dataframe tbody tr th:only-of-type {\n",
       "        vertical-align: middle;\n",
       "    }\n",
       "\n",
       "    .dataframe tbody tr th {\n",
       "        vertical-align: top;\n",
       "    }\n",
       "\n",
       "    .dataframe thead th {\n",
       "        text-align: right;\n",
       "    }\n",
       "</style>\n",
       "<table border=\"1\" class=\"dataframe\">\n",
       "  <thead>\n",
       "    <tr style=\"text-align: right;\">\n",
       "      <th></th>\n",
       "      <th>Cognitive</th>\n",
       "      <th>Receptive Language</th>\n",
       "      <th>Expressive Language</th>\n",
       "    </tr>\n",
       "  </thead>\n",
       "  <tbody>\n",
       "    <tr>\n",
       "      <th>count</th>\n",
       "      <td>314.0</td>\n",
       "      <td>261.0</td>\n",
       "      <td>250.0</td>\n",
       "    </tr>\n",
       "    <tr>\n",
       "      <th>mean</th>\n",
       "      <td>10.8</td>\n",
       "      <td>11.7</td>\n",
       "      <td>12.0</td>\n",
       "    </tr>\n",
       "    <tr>\n",
       "      <th>std</th>\n",
       "      <td>2.0</td>\n",
       "      <td>1.9</td>\n",
       "      <td>2.4</td>\n",
       "    </tr>\n",
       "    <tr>\n",
       "      <th>min</th>\n",
       "      <td>7.0</td>\n",
       "      <td>5.0</td>\n",
       "      <td>6.0</td>\n",
       "    </tr>\n",
       "    <tr>\n",
       "      <th>25%</th>\n",
       "      <td>9.0</td>\n",
       "      <td>11.0</td>\n",
       "      <td>11.0</td>\n",
       "    </tr>\n",
       "    <tr>\n",
       "      <th>50%</th>\n",
       "      <td>10.0</td>\n",
       "      <td>12.0</td>\n",
       "      <td>12.0</td>\n",
       "    </tr>\n",
       "    <tr>\n",
       "      <th>75%</th>\n",
       "      <td>12.0</td>\n",
       "      <td>13.0</td>\n",
       "      <td>13.0</td>\n",
       "    </tr>\n",
       "    <tr>\n",
       "      <th>max</th>\n",
       "      <td>18.0</td>\n",
       "      <td>17.0</td>\n",
       "      <td>19.0</td>\n",
       "    </tr>\n",
       "  </tbody>\n",
       "</table>\n",
       "</div>"
      ],
      "text/plain": [
       "       Cognitive  Receptive Language  Expressive Language\n",
       "count      314.0               261.0                250.0\n",
       "mean        10.8                11.7                 12.0\n",
       "std          2.0                 1.9                  2.4\n",
       "min          7.0                 5.0                  6.0\n",
       "25%          9.0                11.0                 11.0\n",
       "50%         10.0                12.0                 12.0\n",
       "75%         12.0                13.0                 13.0\n",
       "max         18.0                17.0                 19.0"
      ]
     },
     "execution_count": 17,
     "metadata": {},
     "output_type": "execute_result"
    }
   ],
   "source": [
    "statistics = Bayley.describe().round(1)\n",
    "statistics"
   ]
  },
  {
   "cell_type": "code",
   "execution_count": 7,
   "metadata": {},
   "outputs": [
    {
     "data": {
      "text/plain": [
       "(9.76, 13.58)"
      ]
     },
     "execution_count": 7,
     "metadata": {},
     "output_type": "execute_result"
    }
   ],
   "source": [
    "# calculated the mean - 1std and mean + 1std\n",
    "statistics['BIIIRss']['mean']-1*statistics['BIIIRss']['std'], statistics['BIIIRss']['mean']+1*statistics['BIIIRss']['std']"
   ]
  },
  {
   "cell_type": "code",
   "execution_count": 8,
   "metadata": {},
   "outputs": [
    {
     "data": {
      "text/plain": [
       "(9.620000000000001, 14.34)"
      ]
     },
     "execution_count": 8,
     "metadata": {},
     "output_type": "execute_result"
    }
   ],
   "source": [
    "statistics['BIIIEss']['mean']-1*statistics['BIIIEss']['std'], statistics['BIIIEss']['mean']+1*statistics['BIIIEss']['std']"
   ]
  },
  {
   "cell_type": "code",
   "execution_count": 9,
   "metadata": {},
   "outputs": [
    {
     "data": {
      "text/plain": [
       "BIIICss    26.433121\n",
       "BIIIRss     7.324841\n",
       "BIIIEss    10.191083\n",
       "dtype: float64"
      ]
     },
     "execution_count": 9,
     "metadata": {},
     "output_type": "execute_result"
    }
   ],
   "source": [
    "(Bayley<=9.76).sum()/len(Bayley)*100"
   ]
  },
  {
   "cell_type": "markdown",
   "metadata": {},
   "source": [
    "Change the Bayley score to catogorical: <mean-1sd is considered as abnormal; For BIIICss, according to the reference, at 24month, score under 10 is considered as at risk"
   ]
  },
  {
   "cell_type": "code",
   "execution_count": 10,
   "metadata": {},
   "outputs": [],
   "source": [
    "normalized_data = pd.read_csv('normalized_feature_regression.csv')\n",
    "thalamus = pd.read_csv('thalamus_feature_regression.csv')"
   ]
  },
  {
   "cell_type": "code",
   "execution_count": 10,
   "metadata": {},
   "outputs": [
    {
     "data": {
      "text/html": [
       "<div>\n",
       "<style scoped>\n",
       "    .dataframe tbody tr th:only-of-type {\n",
       "        vertical-align: middle;\n",
       "    }\n",
       "\n",
       "    .dataframe tbody tr th {\n",
       "        vertical-align: top;\n",
       "    }\n",
       "\n",
       "    .dataframe thead th {\n",
       "        text-align: right;\n",
       "    }\n",
       "</style>\n",
       "<table border=\"1\" class=\"dataframe\">\n",
       "  <thead>\n",
       "    <tr style=\"text-align: right;\">\n",
       "      <th></th>\n",
       "      <th>original_firstorder_10Percentile</th>\n",
       "      <th>original_firstorder_90Percentile</th>\n",
       "      <th>original_firstorder_Energy</th>\n",
       "      <th>original_firstorder_Entropy</th>\n",
       "      <th>original_firstorder_InterquartileRange</th>\n",
       "      <th>original_firstorder_Kurtosis</th>\n",
       "      <th>original_firstorder_Maximum</th>\n",
       "      <th>original_firstorder_MeanAbsoluteDeviation</th>\n",
       "      <th>original_firstorder_Mean</th>\n",
       "      <th>original_firstorder_Median</th>\n",
       "      <th>...</th>\n",
       "      <th>original_gldm_SmallDependenceEmphasis</th>\n",
       "      <th>original_gldm_SmallDependenceHighGrayLevelEmphasis</th>\n",
       "      <th>original_gldm_SmallDependenceLowGrayLevelEmphasis</th>\n",
       "      <th>img_name</th>\n",
       "      <th>ThalamusDiameter</th>\n",
       "      <th>gestage</th>\n",
       "      <th>birthweight</th>\n",
       "      <th>BIIICss</th>\n",
       "      <th>BIIIRss</th>\n",
       "      <th>BIIIEss</th>\n",
       "    </tr>\n",
       "  </thead>\n",
       "  <tbody>\n",
       "    <tr>\n",
       "      <th>0</th>\n",
       "      <td>0.000000</td>\n",
       "      <td>0.909091</td>\n",
       "      <td>0.269524</td>\n",
       "      <td>0.631531</td>\n",
       "      <td>1.625000</td>\n",
       "      <td>0.478382</td>\n",
       "      <td>0.611940</td>\n",
       "      <td>0.931239</td>\n",
       "      <td>0.920346</td>\n",
       "      <td>0.000000</td>\n",
       "      <td>...</td>\n",
       "      <td>1.111840</td>\n",
       "      <td>0.776599</td>\n",
       "      <td>1.209950</td>\n",
       "      <td>P0006_morph1_0000000D.png</td>\n",
       "      <td>1.837605</td>\n",
       "      <td>280.0</td>\n",
       "      <td>3520.0</td>\n",
       "      <td>11.0</td>\n",
       "      <td>11.0</td>\n",
       "      <td>7.0</td>\n",
       "    </tr>\n",
       "    <tr>\n",
       "      <th>1</th>\n",
       "      <td>0.000000</td>\n",
       "      <td>1.470588</td>\n",
       "      <td>0.901686</td>\n",
       "      <td>2.306074</td>\n",
       "      <td>2.166667</td>\n",
       "      <td>0.745679</td>\n",
       "      <td>1.102564</td>\n",
       "      <td>1.480720</td>\n",
       "      <td>1.491054</td>\n",
       "      <td>1.000000</td>\n",
       "      <td>...</td>\n",
       "      <td>1.243257</td>\n",
       "      <td>1.453139</td>\n",
       "      <td>1.159204</td>\n",
       "      <td>P0015_morph1_0000000A.png</td>\n",
       "      <td>1.886982</td>\n",
       "      <td>252.0</td>\n",
       "      <td>2750.0</td>\n",
       "      <td>11.0</td>\n",
       "      <td>NaN</td>\n",
       "      <td>12.0</td>\n",
       "    </tr>\n",
       "    <tr>\n",
       "      <th>2</th>\n",
       "      <td>0.083333</td>\n",
       "      <td>0.322917</td>\n",
       "      <td>0.062617</td>\n",
       "      <td>0.368451</td>\n",
       "      <td>0.263158</td>\n",
       "      <td>2.905412</td>\n",
       "      <td>0.495868</td>\n",
       "      <td>0.350758</td>\n",
       "      <td>0.277235</td>\n",
       "      <td>0.177778</td>\n",
       "      <td>...</td>\n",
       "      <td>0.734673</td>\n",
       "      <td>0.191408</td>\n",
       "      <td>1.882688</td>\n",
       "      <td>P0020_morph1_00000001.png</td>\n",
       "      <td>1.921918</td>\n",
       "      <td>280.0</td>\n",
       "      <td>3175.0</td>\n",
       "      <td>16.0</td>\n",
       "      <td>16.0</td>\n",
       "      <td>15.0</td>\n",
       "    </tr>\n",
       "    <tr>\n",
       "      <th>3</th>\n",
       "      <td>inf</td>\n",
       "      <td>0.842105</td>\n",
       "      <td>0.185012</td>\n",
       "      <td>1.112407</td>\n",
       "      <td>0.764706</td>\n",
       "      <td>0.916183</td>\n",
       "      <td>0.714286</td>\n",
       "      <td>0.761554</td>\n",
       "      <td>1.327636</td>\n",
       "      <td>1.416667</td>\n",
       "      <td>...</td>\n",
       "      <td>1.737432</td>\n",
       "      <td>1.817935</td>\n",
       "      <td>1.482688</td>\n",
       "      <td>P0020_morph1_00000002.png</td>\n",
       "      <td>1.700615</td>\n",
       "      <td>280.0</td>\n",
       "      <td>3175.0</td>\n",
       "      <td>16.0</td>\n",
       "      <td>16.0</td>\n",
       "      <td>15.0</td>\n",
       "    </tr>\n",
       "    <tr>\n",
       "      <th>4</th>\n",
       "      <td>inf</td>\n",
       "      <td>1.717949</td>\n",
       "      <td>0.966781</td>\n",
       "      <td>2.019003</td>\n",
       "      <td>1.823529</td>\n",
       "      <td>1.420889</td>\n",
       "      <td>1.986111</td>\n",
       "      <td>1.531226</td>\n",
       "      <td>2.517518</td>\n",
       "      <td>3.875000</td>\n",
       "      <td>...</td>\n",
       "      <td>1.965719</td>\n",
       "      <td>7.107370</td>\n",
       "      <td>0.978049</td>\n",
       "      <td>P0020_morph1_00000003.png</td>\n",
       "      <td>1.806750</td>\n",
       "      <td>280.0</td>\n",
       "      <td>3175.0</td>\n",
       "      <td>16.0</td>\n",
       "      <td>16.0</td>\n",
       "      <td>15.0</td>\n",
       "    </tr>\n",
       "  </tbody>\n",
       "</table>\n",
       "<p>5 rows × 93 columns</p>\n",
       "</div>"
      ],
      "text/plain": [
       "   original_firstorder_10Percentile  original_firstorder_90Percentile  \\\n",
       "0                          0.000000                          0.909091   \n",
       "1                          0.000000                          1.470588   \n",
       "2                          0.083333                          0.322917   \n",
       "3                               inf                          0.842105   \n",
       "4                               inf                          1.717949   \n",
       "\n",
       "   original_firstorder_Energy  original_firstorder_Entropy  \\\n",
       "0                    0.269524                     0.631531   \n",
       "1                    0.901686                     2.306074   \n",
       "2                    0.062617                     0.368451   \n",
       "3                    0.185012                     1.112407   \n",
       "4                    0.966781                     2.019003   \n",
       "\n",
       "   original_firstorder_InterquartileRange  original_firstorder_Kurtosis  \\\n",
       "0                                1.625000                      0.478382   \n",
       "1                                2.166667                      0.745679   \n",
       "2                                0.263158                      2.905412   \n",
       "3                                0.764706                      0.916183   \n",
       "4                                1.823529                      1.420889   \n",
       "\n",
       "   original_firstorder_Maximum  original_firstorder_MeanAbsoluteDeviation  \\\n",
       "0                     0.611940                                   0.931239   \n",
       "1                     1.102564                                   1.480720   \n",
       "2                     0.495868                                   0.350758   \n",
       "3                     0.714286                                   0.761554   \n",
       "4                     1.986111                                   1.531226   \n",
       "\n",
       "   original_firstorder_Mean  original_firstorder_Median  ...  \\\n",
       "0                  0.920346                    0.000000  ...   \n",
       "1                  1.491054                    1.000000  ...   \n",
       "2                  0.277235                    0.177778  ...   \n",
       "3                  1.327636                    1.416667  ...   \n",
       "4                  2.517518                    3.875000  ...   \n",
       "\n",
       "   original_gldm_SmallDependenceEmphasis  \\\n",
       "0                               1.111840   \n",
       "1                               1.243257   \n",
       "2                               0.734673   \n",
       "3                               1.737432   \n",
       "4                               1.965719   \n",
       "\n",
       "   original_gldm_SmallDependenceHighGrayLevelEmphasis  \\\n",
       "0                                           0.776599    \n",
       "1                                           1.453139    \n",
       "2                                           0.191408    \n",
       "3                                           1.817935    \n",
       "4                                           7.107370    \n",
       "\n",
       "   original_gldm_SmallDependenceLowGrayLevelEmphasis  \\\n",
       "0                                           1.209950   \n",
       "1                                           1.159204   \n",
       "2                                           1.882688   \n",
       "3                                           1.482688   \n",
       "4                                           0.978049   \n",
       "\n",
       "                    img_name  ThalamusDiameter  gestage  birthweight  BIIICss  \\\n",
       "0  P0006_morph1_0000000D.png          1.837605    280.0       3520.0     11.0   \n",
       "1  P0015_morph1_0000000A.png          1.886982    252.0       2750.0     11.0   \n",
       "2  P0020_morph1_00000001.png          1.921918    280.0       3175.0     16.0   \n",
       "3  P0020_morph1_00000002.png          1.700615    280.0       3175.0     16.0   \n",
       "4  P0020_morph1_00000003.png          1.806750    280.0       3175.0     16.0   \n",
       "\n",
       "   BIIIRss  BIIIEss  \n",
       "0     11.0      7.0  \n",
       "1      NaN     12.0  \n",
       "2     16.0     15.0  \n",
       "3     16.0     15.0  \n",
       "4     16.0     15.0  \n",
       "\n",
       "[5 rows x 93 columns]"
      ]
     },
     "execution_count": 10,
     "metadata": {},
     "output_type": "execute_result"
    }
   ],
   "source": [
    "normalized_data.head()"
   ]
  },
  {
   "cell_type": "code",
   "execution_count": 13,
   "metadata": {},
   "outputs": [
    {
     "name": "stderr",
     "output_type": "stream",
     "text": [
      "/var/folders/h0/t9wwqcm97tg7_g56jrr_9pz40000gn/T/ipykernel_71472/242630933.py:11: FutureWarning: DataFrame.applymap has been deprecated. Use DataFrame.map instead.\n",
      "  normalized_data_cat_C = normalized_data[['BIIICss']].applymap(categorize_C)\n"
     ]
    },
    {
     "data": {
      "text/html": [
       "<div>\n",
       "<style scoped>\n",
       "    .dataframe tbody tr th:only-of-type {\n",
       "        vertical-align: middle;\n",
       "    }\n",
       "\n",
       "    .dataframe tbody tr th {\n",
       "        vertical-align: top;\n",
       "    }\n",
       "\n",
       "    .dataframe thead th {\n",
       "        text-align: right;\n",
       "    }\n",
       "</style>\n",
       "<table border=\"1\" class=\"dataframe\">\n",
       "  <thead>\n",
       "    <tr style=\"text-align: right;\">\n",
       "      <th></th>\n",
       "      <th>BIIICss</th>\n",
       "    </tr>\n",
       "  </thead>\n",
       "  <tbody>\n",
       "    <tr>\n",
       "      <th>0</th>\n",
       "      <td>normal</td>\n",
       "    </tr>\n",
       "    <tr>\n",
       "      <th>1</th>\n",
       "      <td>normal</td>\n",
       "    </tr>\n",
       "    <tr>\n",
       "      <th>2</th>\n",
       "      <td>normal</td>\n",
       "    </tr>\n",
       "    <tr>\n",
       "      <th>3</th>\n",
       "      <td>normal</td>\n",
       "    </tr>\n",
       "    <tr>\n",
       "      <th>4</th>\n",
       "      <td>normal</td>\n",
       "    </tr>\n",
       "  </tbody>\n",
       "</table>\n",
       "</div>"
      ],
      "text/plain": [
       "  BIIICss\n",
       "0  normal\n",
       "1  normal\n",
       "2  normal\n",
       "3  normal\n",
       "4  normal"
      ]
     },
     "execution_count": 13,
     "metadata": {},
     "output_type": "execute_result"
    }
   ],
   "source": [
    "def categorize_C(value):\n",
    "    if value<10:\n",
    "        return 'abnormal'\n",
    "    else:\n",
    "        return 'normal'\n",
    "def categorize_R(value):\n",
    "    if value<12:\n",
    "        return 'abnormal'\n",
    "    else:\n",
    "        return 'normal'\n",
    "normalized_data_cat_C = normalized_data[['BIIICss']].applymap(categorize_C)\n",
    "normalized_data_cat_C.head()"
   ]
  },
  {
   "cell_type": "code",
   "execution_count": 14,
   "metadata": {},
   "outputs": [
    {
     "name": "stderr",
     "output_type": "stream",
     "text": [
      "/var/folders/h0/t9wwqcm97tg7_g56jrr_9pz40000gn/T/ipykernel_71472/4119964628.py:1: FutureWarning: DataFrame.applymap has been deprecated. Use DataFrame.map instead.\n",
      "  normalized_data_cat_R = normalized_data[['BIIIRss','BIIIEss']].applymap(categorize_R)\n"
     ]
    }
   ],
   "source": [
    "normalized_data_cat_R = normalized_data[['BIIIRss','BIIIEss']].applymap(categorize_R)"
   ]
  },
  {
   "cell_type": "code",
   "execution_count": 15,
   "metadata": {},
   "outputs": [
    {
     "data": {
      "text/html": [
       "<div>\n",
       "<style scoped>\n",
       "    .dataframe tbody tr th:only-of-type {\n",
       "        vertical-align: middle;\n",
       "    }\n",
       "\n",
       "    .dataframe tbody tr th {\n",
       "        vertical-align: top;\n",
       "    }\n",
       "\n",
       "    .dataframe thead th {\n",
       "        text-align: right;\n",
       "    }\n",
       "</style>\n",
       "<table border=\"1\" class=\"dataframe\">\n",
       "  <thead>\n",
       "    <tr style=\"text-align: right;\">\n",
       "      <th></th>\n",
       "      <th>BIIICss</th>\n",
       "      <th>BIIIRss</th>\n",
       "      <th>BIIIEss</th>\n",
       "    </tr>\n",
       "  </thead>\n",
       "  <tbody>\n",
       "    <tr>\n",
       "      <th>0</th>\n",
       "      <td>normal</td>\n",
       "      <td>abnormal</td>\n",
       "      <td>abnormal</td>\n",
       "    </tr>\n",
       "    <tr>\n",
       "      <th>1</th>\n",
       "      <td>normal</td>\n",
       "      <td>normal</td>\n",
       "      <td>normal</td>\n",
       "    </tr>\n",
       "    <tr>\n",
       "      <th>2</th>\n",
       "      <td>normal</td>\n",
       "      <td>normal</td>\n",
       "      <td>normal</td>\n",
       "    </tr>\n",
       "    <tr>\n",
       "      <th>3</th>\n",
       "      <td>normal</td>\n",
       "      <td>normal</td>\n",
       "      <td>normal</td>\n",
       "    </tr>\n",
       "    <tr>\n",
       "      <th>4</th>\n",
       "      <td>normal</td>\n",
       "      <td>normal</td>\n",
       "      <td>normal</td>\n",
       "    </tr>\n",
       "  </tbody>\n",
       "</table>\n",
       "</div>"
      ],
      "text/plain": [
       "  BIIICss   BIIIRss   BIIIEss\n",
       "0  normal  abnormal  abnormal\n",
       "1  normal    normal    normal\n",
       "2  normal    normal    normal\n",
       "3  normal    normal    normal\n",
       "4  normal    normal    normal"
      ]
     },
     "execution_count": 15,
     "metadata": {},
     "output_type": "execute_result"
    }
   ],
   "source": [
    "normalized_data_cat = pd.concat([normalized_data_cat_C,normalized_data_cat_R],axis=1)\n",
    "normalized_data_cat.head()"
   ]
  },
  {
   "cell_type": "code",
   "execution_count": 16,
   "metadata": {},
   "outputs": [],
   "source": [
    "# create a new column to evaluate the comprehensive language ability\n",
    "normalized_data_cat['Language Ability'] = np.where((normalized_data_cat['BIIIRss'] == 'abnormal') | (normalized_data_cat['BIIIEss'] == 'abnormal'), 'abnormal', 'normal')"
   ]
  },
  {
   "cell_type": "code",
   "execution_count": 17,
   "metadata": {},
   "outputs": [],
   "source": [
    "normalized_data[['BIIICss','BIIIRss','BIIIEss','Language Ability']] = normalized_data_cat[['BIIICss','BIIIRss','BIIIEss','Language Ability']]\n",
    "thalamus[['BIIICss','BIIIRss','BIIIEss','Language Ability']] = normalized_data_cat[['BIIICss','BIIIRss','BIIIEss','Language Ability']]"
   ]
  },
  {
   "cell_type": "code",
   "execution_count": 19,
   "metadata": {},
   "outputs": [],
   "source": [
    "normalized_data.to_csv('normalized_echogenicity_cat.csv',index=False)\n",
    "thalamus.to_csv('thalamus_echogenicity_cat.csv',index=False)"
   ]
  },
  {
   "cell_type": "code",
   "execution_count": null,
   "metadata": {},
   "outputs": [],
   "source": []
  },
  {
   "cell_type": "markdown",
   "metadata": {},
   "source": [
    "# EDA of echogenicity feature and Bayley III"
   ]
  },
  {
   "cell_type": "code",
   "execution_count": 19,
   "metadata": {},
   "outputs": [],
   "source": [
    "normalized_data = pd.read_csv('normalized_feature_regression.csv')\n",
    "thalamus = pd.read_csv('thalamus_feature_regression.csv')"
   ]
  },
  {
   "cell_type": "code",
   "execution_count": 20,
   "metadata": {},
   "outputs": [],
   "source": [
    "# Drop unwanted columns\n",
    "normalized_data = normalized_data.drop(columns=['img_name',\n",
    "       'ThalamusDiameter', 'gestage'], axis=1)"
   ]
  },
  {
   "cell_type": "code",
   "execution_count": 21,
   "metadata": {},
   "outputs": [],
   "source": [
    "thalamus = thalamus.drop(columns=['img_name',\n",
    "       'ThalamusDiameter', 'gestage'], axis=1)"
   ]
  },
  {
   "cell_type": "code",
   "execution_count": 22,
   "metadata": {},
   "outputs": [
    {
     "data": {
      "text/html": [
       "<div>\n",
       "<style scoped>\n",
       "    .dataframe tbody tr th:only-of-type {\n",
       "        vertical-align: middle;\n",
       "    }\n",
       "\n",
       "    .dataframe tbody tr th {\n",
       "        vertical-align: top;\n",
       "    }\n",
       "\n",
       "    .dataframe thead th {\n",
       "        text-align: right;\n",
       "    }\n",
       "</style>\n",
       "<table border=\"1\" class=\"dataframe\">\n",
       "  <thead>\n",
       "    <tr style=\"text-align: right;\">\n",
       "      <th></th>\n",
       "      <th>original_firstorder_10Percentile</th>\n",
       "      <th>original_firstorder_90Percentile</th>\n",
       "      <th>original_firstorder_Energy</th>\n",
       "      <th>original_firstorder_Entropy</th>\n",
       "      <th>original_firstorder_InterquartileRange</th>\n",
       "      <th>original_firstorder_Kurtosis</th>\n",
       "      <th>original_firstorder_Maximum</th>\n",
       "      <th>original_firstorder_MeanAbsoluteDeviation</th>\n",
       "      <th>original_firstorder_Mean</th>\n",
       "      <th>original_firstorder_Median</th>\n",
       "      <th>...</th>\n",
       "      <th>original_gldm_LargeDependenceHighGrayLevelEmphasis</th>\n",
       "      <th>original_gldm_LargeDependenceLowGrayLevelEmphasis</th>\n",
       "      <th>original_gldm_LowGrayLevelEmphasis</th>\n",
       "      <th>original_gldm_SmallDependenceEmphasis</th>\n",
       "      <th>original_gldm_SmallDependenceHighGrayLevelEmphasis</th>\n",
       "      <th>original_gldm_SmallDependenceLowGrayLevelEmphasis</th>\n",
       "      <th>birthweight</th>\n",
       "      <th>BIIICss</th>\n",
       "      <th>BIIIRss</th>\n",
       "      <th>BIIIEss</th>\n",
       "    </tr>\n",
       "  </thead>\n",
       "  <tbody>\n",
       "    <tr>\n",
       "      <th>0</th>\n",
       "      <td>0.0</td>\n",
       "      <td>20.0</td>\n",
       "      <td>77664</td>\n",
       "      <td>0.319064</td>\n",
       "      <td>13.0</td>\n",
       "      <td>3.900235</td>\n",
       "      <td>41</td>\n",
       "      <td>7.470333</td>\n",
       "      <td>6.447574</td>\n",
       "      <td>0</td>\n",
       "      <td>...</td>\n",
       "      <td>69.261346</td>\n",
       "      <td>63.832942</td>\n",
       "      <td>0.956573</td>\n",
       "      <td>0.021337</td>\n",
       "      <td>0.035045</td>\n",
       "      <td>0.017910</td>\n",
       "      <td>3520.0</td>\n",
       "      <td>11.0</td>\n",
       "      <td>11.0</td>\n",
       "      <td>7.0</td>\n",
       "    </tr>\n",
       "    <tr>\n",
       "      <th>1</th>\n",
       "      <td>0.0</td>\n",
       "      <td>25.0</td>\n",
       "      <td>135105</td>\n",
       "      <td>0.501164</td>\n",
       "      <td>13.0</td>\n",
       "      <td>4.136352</td>\n",
       "      <td>43</td>\n",
       "      <td>8.151758</td>\n",
       "      <td>8.079046</td>\n",
       "      <td>3</td>\n",
       "      <td>...</td>\n",
       "      <td>79.813049</td>\n",
       "      <td>61.359473</td>\n",
       "      <td>0.917189</td>\n",
       "      <td>0.020988</td>\n",
       "      <td>0.035075</td>\n",
       "      <td>0.017467</td>\n",
       "      <td>2750.0</td>\n",
       "      <td>11.0</td>\n",
       "      <td>NaN</td>\n",
       "      <td>12.0</td>\n",
       "    </tr>\n",
       "    <tr>\n",
       "      <th>2</th>\n",
       "      <td>1.0</td>\n",
       "      <td>31.0</td>\n",
       "      <td>198419</td>\n",
       "      <td>0.819558</td>\n",
       "      <td>15.0</td>\n",
       "      <td>5.318450</td>\n",
       "      <td>60</td>\n",
       "      <td>10.001134</td>\n",
       "      <td>13.720217</td>\n",
       "      <td>8</td>\n",
       "      <td>...</td>\n",
       "      <td>90.346570</td>\n",
       "      <td>55.730646</td>\n",
       "      <td>0.858002</td>\n",
       "      <td>0.025632</td>\n",
       "      <td>0.062125</td>\n",
       "      <td>0.017881</td>\n",
       "      <td>3175.0</td>\n",
       "      <td>16.0</td>\n",
       "      <td>16.0</td>\n",
       "      <td>15.0</td>\n",
       "    </tr>\n",
       "    <tr>\n",
       "      <th>3</th>\n",
       "      <td>6.0</td>\n",
       "      <td>32.0</td>\n",
       "      <td>188462</td>\n",
       "      <td>1.014456</td>\n",
       "      <td>13.0</td>\n",
       "      <td>5.102134</td>\n",
       "      <td>65</td>\n",
       "      <td>8.834914</td>\n",
       "      <td>19.667606</td>\n",
       "      <td>17</td>\n",
       "      <td>...</td>\n",
       "      <td>90.529577</td>\n",
       "      <td>45.967371</td>\n",
       "      <td>0.794757</td>\n",
       "      <td>0.035199</td>\n",
       "      <td>0.111510</td>\n",
       "      <td>0.020570</td>\n",
       "      <td>3175.0</td>\n",
       "      <td>16.0</td>\n",
       "      <td>16.0</td>\n",
       "      <td>15.0</td>\n",
       "    </tr>\n",
       "    <tr>\n",
       "      <th>4</th>\n",
       "      <td>12.0</td>\n",
       "      <td>67.0</td>\n",
       "      <td>937306</td>\n",
       "      <td>1.902161</td>\n",
       "      <td>31.0</td>\n",
       "      <td>6.080969</td>\n",
       "      <td>143</td>\n",
       "      <td>18.822240</td>\n",
       "      <td>36.614737</td>\n",
       "      <td>31</td>\n",
       "      <td>...</td>\n",
       "      <td>189.286316</td>\n",
       "      <td>26.520529</td>\n",
       "      <td>0.487980</td>\n",
       "      <td>0.036750</td>\n",
       "      <td>0.311790</td>\n",
       "      <td>0.013486</td>\n",
       "      <td>3175.0</td>\n",
       "      <td>16.0</td>\n",
       "      <td>16.0</td>\n",
       "      <td>15.0</td>\n",
       "    </tr>\n",
       "  </tbody>\n",
       "</table>\n",
       "<p>5 rows × 90 columns</p>\n",
       "</div>"
      ],
      "text/plain": [
       "   original_firstorder_10Percentile  original_firstorder_90Percentile  \\\n",
       "0                               0.0                              20.0   \n",
       "1                               0.0                              25.0   \n",
       "2                               1.0                              31.0   \n",
       "3                               6.0                              32.0   \n",
       "4                              12.0                              67.0   \n",
       "\n",
       "   original_firstorder_Energy  original_firstorder_Entropy  \\\n",
       "0                       77664                     0.319064   \n",
       "1                      135105                     0.501164   \n",
       "2                      198419                     0.819558   \n",
       "3                      188462                     1.014456   \n",
       "4                      937306                     1.902161   \n",
       "\n",
       "   original_firstorder_InterquartileRange  original_firstorder_Kurtosis  \\\n",
       "0                                    13.0                      3.900235   \n",
       "1                                    13.0                      4.136352   \n",
       "2                                    15.0                      5.318450   \n",
       "3                                    13.0                      5.102134   \n",
       "4                                    31.0                      6.080969   \n",
       "\n",
       "   original_firstorder_Maximum  original_firstorder_MeanAbsoluteDeviation  \\\n",
       "0                           41                                   7.470333   \n",
       "1                           43                                   8.151758   \n",
       "2                           60                                  10.001134   \n",
       "3                           65                                   8.834914   \n",
       "4                          143                                  18.822240   \n",
       "\n",
       "   original_firstorder_Mean  original_firstorder_Median  ...  \\\n",
       "0                  6.447574                           0  ...   \n",
       "1                  8.079046                           3  ...   \n",
       "2                 13.720217                           8  ...   \n",
       "3                 19.667606                          17  ...   \n",
       "4                 36.614737                          31  ...   \n",
       "\n",
       "   original_gldm_LargeDependenceHighGrayLevelEmphasis  \\\n",
       "0                                          69.261346    \n",
       "1                                          79.813049    \n",
       "2                                          90.346570    \n",
       "3                                          90.529577    \n",
       "4                                         189.286316    \n",
       "\n",
       "   original_gldm_LargeDependenceLowGrayLevelEmphasis  \\\n",
       "0                                          63.832942   \n",
       "1                                          61.359473   \n",
       "2                                          55.730646   \n",
       "3                                          45.967371   \n",
       "4                                          26.520529   \n",
       "\n",
       "   original_gldm_LowGrayLevelEmphasis  original_gldm_SmallDependenceEmphasis  \\\n",
       "0                            0.956573                               0.021337   \n",
       "1                            0.917189                               0.020988   \n",
       "2                            0.858002                               0.025632   \n",
       "3                            0.794757                               0.035199   \n",
       "4                            0.487980                               0.036750   \n",
       "\n",
       "   original_gldm_SmallDependenceHighGrayLevelEmphasis  \\\n",
       "0                                           0.035045    \n",
       "1                                           0.035075    \n",
       "2                                           0.062125    \n",
       "3                                           0.111510    \n",
       "4                                           0.311790    \n",
       "\n",
       "   original_gldm_SmallDependenceLowGrayLevelEmphasis  birthweight  BIIICss  \\\n",
       "0                                           0.017910       3520.0     11.0   \n",
       "1                                           0.017467       2750.0     11.0   \n",
       "2                                           0.017881       3175.0     16.0   \n",
       "3                                           0.020570       3175.0     16.0   \n",
       "4                                           0.013486       3175.0     16.0   \n",
       "\n",
       "   BIIIRss  BIIIEss  \n",
       "0     11.0      7.0  \n",
       "1      NaN     12.0  \n",
       "2     16.0     15.0  \n",
       "3     16.0     15.0  \n",
       "4     16.0     15.0  \n",
       "\n",
       "[5 rows x 90 columns]"
      ]
     },
     "execution_count": 22,
     "metadata": {},
     "output_type": "execute_result"
    }
   ],
   "source": [
    "normalized_data.head()\n",
    "thalamus.head()"
   ]
  },
  {
   "cell_type": "code",
   "execution_count": 29,
   "metadata": {},
   "outputs": [],
   "source": [
    "normalized_data_corr = normalized_data.corr()[['BIIICss','BIIIRss','BIIIEss']].sort_values(by = 'BIIICss',ascending=False)"
   ]
  },
  {
   "cell_type": "code",
   "execution_count": 51,
   "metadata": {},
   "outputs": [],
   "source": [
    "normalized_data_corr= normalized_data_corr.drop(['BIIICss','BIIIRss','BIIIEss'],axis=0)"
   ]
  },
  {
   "cell_type": "code",
   "execution_count": 63,
   "metadata": {},
   "outputs": [],
   "source": [
    "top_5_BIIICss = normalized_data_corr['BIIICss'].nlargest(5)\n",
    "top_5_BIIIRss = normalized_data_corr['BIIIRss'].nlargest(5)\n",
    "top_5_BIIIEss = normalized_data_corr['BIIIEss'].nlargest(5)"
   ]
  },
  {
   "cell_type": "code",
   "execution_count": 64,
   "metadata": {},
   "outputs": [
    {
     "data": {
      "text/html": [
       "<div>\n",
       "<style scoped>\n",
       "    .dataframe tbody tr th:only-of-type {\n",
       "        vertical-align: middle;\n",
       "    }\n",
       "\n",
       "    .dataframe tbody tr th {\n",
       "        vertical-align: top;\n",
       "    }\n",
       "\n",
       "    .dataframe thead th {\n",
       "        text-align: right;\n",
       "    }\n",
       "</style>\n",
       "<table border=\"1\" class=\"dataframe\">\n",
       "  <thead>\n",
       "    <tr style=\"text-align: right;\">\n",
       "      <th></th>\n",
       "      <th>BIIICss</th>\n",
       "    </tr>\n",
       "  </thead>\n",
       "  <tbody>\n",
       "    <tr>\n",
       "      <th>original_gldm_SmallDependenceEmphasis</th>\n",
       "      <td>0.141460</td>\n",
       "    </tr>\n",
       "    <tr>\n",
       "      <th>original_glszm_SmallAreaLowGrayLevelEmphasis</th>\n",
       "      <td>0.123590</td>\n",
       "    </tr>\n",
       "    <tr>\n",
       "      <th>original_glszm_ZonePercentage</th>\n",
       "      <td>0.108832</td>\n",
       "    </tr>\n",
       "    <tr>\n",
       "      <th>original_gldm_HighGrayLevelEmphasis</th>\n",
       "      <td>0.093200</td>\n",
       "    </tr>\n",
       "    <tr>\n",
       "      <th>original_glcm_Autocorrelation</th>\n",
       "      <td>0.091881</td>\n",
       "    </tr>\n",
       "  </tbody>\n",
       "</table>\n",
       "</div>"
      ],
      "text/plain": [
       "                                               BIIICss\n",
       "original_gldm_SmallDependenceEmphasis         0.141460\n",
       "original_glszm_SmallAreaLowGrayLevelEmphasis  0.123590\n",
       "original_glszm_ZonePercentage                 0.108832\n",
       "original_gldm_HighGrayLevelEmphasis           0.093200\n",
       "original_glcm_Autocorrelation                 0.091881"
      ]
     },
     "execution_count": 64,
     "metadata": {},
     "output_type": "execute_result"
    }
   ],
   "source": [
    "pd.DataFrame(top_5_BIIICss)"
   ]
  },
  {
   "cell_type": "code",
   "execution_count": 65,
   "metadata": {},
   "outputs": [
    {
     "data": {
      "text/html": [
       "<div>\n",
       "<style scoped>\n",
       "    .dataframe tbody tr th:only-of-type {\n",
       "        vertical-align: middle;\n",
       "    }\n",
       "\n",
       "    .dataframe tbody tr th {\n",
       "        vertical-align: top;\n",
       "    }\n",
       "\n",
       "    .dataframe thead th {\n",
       "        text-align: right;\n",
       "    }\n",
       "</style>\n",
       "<table border=\"1\" class=\"dataframe\">\n",
       "  <thead>\n",
       "    <tr style=\"text-align: right;\">\n",
       "      <th></th>\n",
       "      <th>BIIIEss</th>\n",
       "    </tr>\n",
       "  </thead>\n",
       "  <tbody>\n",
       "    <tr>\n",
       "      <th>original_firstorder_Skewness</th>\n",
       "      <td>0.169802</td>\n",
       "    </tr>\n",
       "    <tr>\n",
       "      <th>original_glrlm_RunLengthNonUniformityNormalized</th>\n",
       "      <td>0.137228</td>\n",
       "    </tr>\n",
       "    <tr>\n",
       "      <th>original_glszm_ZonePercentage</th>\n",
       "      <td>0.131677</td>\n",
       "    </tr>\n",
       "    <tr>\n",
       "      <th>original_glrlm_ShortRunHighGrayLevelEmphasis</th>\n",
       "      <td>0.126359</td>\n",
       "    </tr>\n",
       "    <tr>\n",
       "      <th>original_glrlm_ShortRunEmphasis</th>\n",
       "      <td>0.123232</td>\n",
       "    </tr>\n",
       "  </tbody>\n",
       "</table>\n",
       "</div>"
      ],
      "text/plain": [
       "                                                  BIIIEss\n",
       "original_firstorder_Skewness                     0.169802\n",
       "original_glrlm_RunLengthNonUniformityNormalized  0.137228\n",
       "original_glszm_ZonePercentage                    0.131677\n",
       "original_glrlm_ShortRunHighGrayLevelEmphasis     0.126359\n",
       "original_glrlm_ShortRunEmphasis                  0.123232"
      ]
     },
     "execution_count": 65,
     "metadata": {},
     "output_type": "execute_result"
    }
   ],
   "source": [
    "pd.DataFrame(top_5_BIIIEss)"
   ]
  },
  {
   "cell_type": "code",
   "execution_count": 66,
   "metadata": {},
   "outputs": [
    {
     "data": {
      "text/html": [
       "<div>\n",
       "<style scoped>\n",
       "    .dataframe tbody tr th:only-of-type {\n",
       "        vertical-align: middle;\n",
       "    }\n",
       "\n",
       "    .dataframe tbody tr th {\n",
       "        vertical-align: top;\n",
       "    }\n",
       "\n",
       "    .dataframe thead th {\n",
       "        text-align: right;\n",
       "    }\n",
       "</style>\n",
       "<table border=\"1\" class=\"dataframe\">\n",
       "  <thead>\n",
       "    <tr style=\"text-align: right;\">\n",
       "      <th></th>\n",
       "      <th>BIIIRss</th>\n",
       "    </tr>\n",
       "  </thead>\n",
       "  <tbody>\n",
       "    <tr>\n",
       "      <th>original_glcm_ClusterShade</th>\n",
       "      <td>0.121758</td>\n",
       "    </tr>\n",
       "    <tr>\n",
       "      <th>original_firstorder_Skewness</th>\n",
       "      <td>0.118287</td>\n",
       "    </tr>\n",
       "    <tr>\n",
       "      <th>original_glcm_Imc1</th>\n",
       "      <td>0.112883</td>\n",
       "    </tr>\n",
       "    <tr>\n",
       "      <th>original_firstorder_Variance</th>\n",
       "      <td>0.109593</td>\n",
       "    </tr>\n",
       "    <tr>\n",
       "      <th>original_glrlm_ShortRunHighGrayLevelEmphasis</th>\n",
       "      <td>0.108105</td>\n",
       "    </tr>\n",
       "  </tbody>\n",
       "</table>\n",
       "</div>"
      ],
      "text/plain": [
       "                                               BIIIRss\n",
       "original_glcm_ClusterShade                    0.121758\n",
       "original_firstorder_Skewness                  0.118287\n",
       "original_glcm_Imc1                            0.112883\n",
       "original_firstorder_Variance                  0.109593\n",
       "original_glrlm_ShortRunHighGrayLevelEmphasis  0.108105"
      ]
     },
     "execution_count": 66,
     "metadata": {},
     "output_type": "execute_result"
    }
   ],
   "source": [
    "pd.DataFrame(top_5_BIIIRss)"
   ]
  },
  {
   "cell_type": "code",
   "execution_count": 38,
   "metadata": {},
   "outputs": [
    {
     "data": {
      "text/plain": [
       "<Axes: >"
      ]
     },
     "execution_count": 38,
     "metadata": {},
     "output_type": "execute_result"
    },
    {
     "data": {
      "image/png": "[encoded data removed]",
      "text/plain": [
       "<Figure size 640x480 with 2 Axes>"
      ]
     },
     "metadata": {},
     "output_type": "display_data"
    }
   ],
   "source": [
    "sns.heatmap(normalized_data_corr[3:], cmap='coolwarm', center=0,fmt=\".2f\")"
   ]
  },
  {
   "cell_type": "code",
   "execution_count": 35,
   "metadata": {},
   "outputs": [],
   "source": [
    "thalamus_corr = thalamus.corr()[['BIIICss','BIIIRss','BIIIEss']].sort_values(by = 'BIIICss',ascending=False)"
   ]
  },
  {
   "cell_type": "markdown",
   "metadata": {},
   "source": [
    "### Heat map for the original thalamus echogenicity"
   ]
  },
  {
   "cell_type": "code",
   "execution_count": 67,
   "metadata": {},
   "outputs": [],
   "source": [
    "thalamus_corr= thalamus_corr.drop(['BIIICss','BIIIRss','BIIIEss'],axis=0)\n",
    "top_thalamus_BIIICss = thalamus_corr['BIIICss'].nlargest(5)\n",
    "top_thalamus_BIIIRss = thalamus_corr['BIIIRss'].nlargest(5)\n",
    "top_thalamus_BIIIEss = thalamus_corr['BIIIEss'].nlargest(5)"
   ]
  },
  {
   "cell_type": "code",
   "execution_count": 68,
   "metadata": {},
   "outputs": [
    {
     "data": {
      "text/html": [
       "<div>\n",
       "<style scoped>\n",
       "    .dataframe tbody tr th:only-of-type {\n",
       "        vertical-align: middle;\n",
       "    }\n",
       "\n",
       "    .dataframe tbody tr th {\n",
       "        vertical-align: top;\n",
       "    }\n",
       "\n",
       "    .dataframe thead th {\n",
       "        text-align: right;\n",
       "    }\n",
       "</style>\n",
       "<table border=\"1\" class=\"dataframe\">\n",
       "  <thead>\n",
       "    <tr style=\"text-align: right;\">\n",
       "      <th></th>\n",
       "      <th>BIIICss</th>\n",
       "    </tr>\n",
       "  </thead>\n",
       "  <tbody>\n",
       "    <tr>\n",
       "      <th>original_glszm_ZonePercentage</th>\n",
       "      <td>0.131006</td>\n",
       "    </tr>\n",
       "    <tr>\n",
       "      <th>original_gldm_SmallDependenceEmphasis</th>\n",
       "      <td>0.127455</td>\n",
       "    </tr>\n",
       "    <tr>\n",
       "      <th>original_glcm_Imc1</th>\n",
       "      <td>0.120276</td>\n",
       "    </tr>\n",
       "    <tr>\n",
       "      <th>original_gldm_SmallDependenceLowGrayLevelEmphasis</th>\n",
       "      <td>0.106094</td>\n",
       "    </tr>\n",
       "    <tr>\n",
       "      <th>original_glrlm_RunPercentage</th>\n",
       "      <td>0.085570</td>\n",
       "    </tr>\n",
       "  </tbody>\n",
       "</table>\n",
       "</div>"
      ],
      "text/plain": [
       "                                                    BIIICss\n",
       "original_glszm_ZonePercentage                      0.131006\n",
       "original_gldm_SmallDependenceEmphasis              0.127455\n",
       "original_glcm_Imc1                                 0.120276\n",
       "original_gldm_SmallDependenceLowGrayLevelEmphasis  0.106094\n",
       "original_glrlm_RunPercentage                       0.085570"
      ]
     },
     "execution_count": 68,
     "metadata": {},
     "output_type": "execute_result"
    }
   ],
   "source": [
    "pd.DataFrame(top_thalamus_BIIICss)"
   ]
  },
  {
   "cell_type": "code",
   "execution_count": 70,
   "metadata": {},
   "outputs": [
    {
     "data": {
      "text/html": [
       "<div>\n",
       "<style scoped>\n",
       "    .dataframe tbody tr th:only-of-type {\n",
       "        vertical-align: middle;\n",
       "    }\n",
       "\n",
       "    .dataframe tbody tr th {\n",
       "        vertical-align: top;\n",
       "    }\n",
       "\n",
       "    .dataframe thead th {\n",
       "        text-align: right;\n",
       "    }\n",
       "</style>\n",
       "<table border=\"1\" class=\"dataframe\">\n",
       "  <thead>\n",
       "    <tr style=\"text-align: right;\">\n",
       "      <th></th>\n",
       "      <th>BIIIEss</th>\n",
       "    </tr>\n",
       "  </thead>\n",
       "  <tbody>\n",
       "    <tr>\n",
       "      <th>original_gldm_SmallDependenceLowGrayLevelEmphasis</th>\n",
       "      <td>0.160312</td>\n",
       "    </tr>\n",
       "    <tr>\n",
       "      <th>original_gldm_LowGrayLevelEmphasis</th>\n",
       "      <td>0.128103</td>\n",
       "    </tr>\n",
       "    <tr>\n",
       "      <th>original_gldm_LargeDependenceLowGrayLevelEmphasis</th>\n",
       "      <td>0.117537</td>\n",
       "    </tr>\n",
       "    <tr>\n",
       "      <th>original_glrlm_ShortRunLowGrayLevelEmphasis</th>\n",
       "      <td>0.116431</td>\n",
       "    </tr>\n",
       "    <tr>\n",
       "      <th>original_glrlm_LowGrayLevelRunEmphasis</th>\n",
       "      <td>0.106783</td>\n",
       "    </tr>\n",
       "  </tbody>\n",
       "</table>\n",
       "</div>"
      ],
      "text/plain": [
       "                                                    BIIIEss\n",
       "original_gldm_SmallDependenceLowGrayLevelEmphasis  0.160312\n",
       "original_gldm_LowGrayLevelEmphasis                 0.128103\n",
       "original_gldm_LargeDependenceLowGrayLevelEmphasis  0.117537\n",
       "original_glrlm_ShortRunLowGrayLevelEmphasis        0.116431\n",
       "original_glrlm_LowGrayLevelRunEmphasis             0.106783"
      ]
     },
     "execution_count": 70,
     "metadata": {},
     "output_type": "execute_result"
    }
   ],
   "source": [
    "pd.DataFrame(top_thalamus_BIIIEss)"
   ]
  },
  {
   "cell_type": "code",
   "execution_count": 71,
   "metadata": {},
   "outputs": [
    {
     "data": {
      "text/html": [
       "<div>\n",
       "<style scoped>\n",
       "    .dataframe tbody tr th:only-of-type {\n",
       "        vertical-align: middle;\n",
       "    }\n",
       "\n",
       "    .dataframe tbody tr th {\n",
       "        vertical-align: top;\n",
       "    }\n",
       "\n",
       "    .dataframe thead th {\n",
       "        text-align: right;\n",
       "    }\n",
       "</style>\n",
       "<table border=\"1\" class=\"dataframe\">\n",
       "  <thead>\n",
       "    <tr style=\"text-align: right;\">\n",
       "      <th></th>\n",
       "      <th>BIIIRss</th>\n",
       "    </tr>\n",
       "  </thead>\n",
       "  <tbody>\n",
       "    <tr>\n",
       "      <th>original_glcm_ClusterProminence</th>\n",
       "      <td>0.140289</td>\n",
       "    </tr>\n",
       "    <tr>\n",
       "      <th>original_glcm_ClusterShade</th>\n",
       "      <td>0.139493</td>\n",
       "    </tr>\n",
       "    <tr>\n",
       "      <th>original_gldm_SmallDependenceLowGrayLevelEmphasis</th>\n",
       "      <td>0.117445</td>\n",
       "    </tr>\n",
       "    <tr>\n",
       "      <th>original_gldm_LowGrayLevelEmphasis</th>\n",
       "      <td>0.096556</td>\n",
       "    </tr>\n",
       "    <tr>\n",
       "      <th>original_gldm_LargeDependenceLowGrayLevelEmphasis</th>\n",
       "      <td>0.088057</td>\n",
       "    </tr>\n",
       "  </tbody>\n",
       "</table>\n",
       "</div>"
      ],
      "text/plain": [
       "                                                    BIIIRss\n",
       "original_glcm_ClusterProminence                    0.140289\n",
       "original_glcm_ClusterShade                         0.139493\n",
       "original_gldm_SmallDependenceLowGrayLevelEmphasis  0.117445\n",
       "original_gldm_LowGrayLevelEmphasis                 0.096556\n",
       "original_gldm_LargeDependenceLowGrayLevelEmphasis  0.088057"
      ]
     },
     "execution_count": 71,
     "metadata": {},
     "output_type": "execute_result"
    }
   ],
   "source": [
    "pd.DataFrame(top_thalamus_BIIIRss)"
   ]
  },
  {
   "cell_type": "code",
   "execution_count": 37,
   "metadata": {},
   "outputs": [
    {
     "data": {
      "text/plain": [
       "<Axes: >"
      ]
     },
     "execution_count": 37,
     "metadata": {},
     "output_type": "execute_result"
    },
    {
     "data": {
      "image/png": "[encoded data removed]",
      "text/plain": [
       "<Figure size 640x480 with 2 Axes>"
      ]
     },
     "metadata": {},
     "output_type": "display_data"
    }
   ],
   "source": [
    "sns.heatmap(thalamus_corr[3:], annot=False, cmap='coolwarm',center=0, fmt=\".2f\")"
   ]
  },
  {
   "cell_type": "markdown",
   "metadata": {},
   "source": [
    "## Correlation between TD & TD/HC and BayleyIII score"
   ]
  },
  {
   "cell_type": "code",
   "execution_count": 5,
   "metadata": {},
   "outputs": [],
   "source": [
    "fulldata = pd.read_excel('fulldata_regression.xlsx')"
   ]
  },
  {
   "cell_type": "code",
   "execution_count": 6,
   "metadata": {},
   "outputs": [
    {
     "data": {
      "text/plain": [
       "Index(['PNG_Path', 'PatientID', 'PNG_Name', 'ThalamusDiameter_x',\n",
       "       'Head Circumference', 'GA (HC)', 'Cerebellum Diameter', 'GA (CD)',\n",
       "       'GA (BIS)', 'Gender',\n",
       "       ...\n",
       "       'original_gldm_SmallDependenceEmphasis',\n",
       "       'original_gldm_SmallDependenceHighGrayLevelEmphasis',\n",
       "       'original_gldm_SmallDependenceLowGrayLevelEmphasis', 'img_name',\n",
       "       'ThalamusDiameter_y', 'gestage', 'birthweight', 'BIIICss', 'BIIIRss',\n",
       "       'BIIIEss'],\n",
       "      dtype='object', length=113)"
      ]
     },
     "execution_count": 6,
     "metadata": {},
     "output_type": "execute_result"
    }
   ],
   "source": [
    "fulldata.columns"
   ]
  },
  {
   "cell_type": "code",
   "execution_count": 8,
   "metadata": {},
   "outputs": [],
   "source": [
    "fulldata = fulldata[['ThalamusDiameter_x', 'TD:HC','BIIICss', 'BIIIRss', 'BIIIEss']]"
   ]
  },
  {
   "cell_type": "code",
   "execution_count": 10,
   "metadata": {},
   "outputs": [],
   "source": [
    "fulldata_corr = fulldata.corr()[['BIIICss','BIIIRss','BIIIEss']].sort_values(by = 'BIIICss',ascending=False)"
   ]
  },
  {
   "cell_type": "code",
   "execution_count": 13,
   "metadata": {},
   "outputs": [],
   "source": [
    "fulldata_corr= fulldata_corr.drop(['BIIICss','BIIIRss','BIIIEss'],axis=0)"
   ]
  },
  {
   "cell_type": "code",
   "execution_count": 14,
   "metadata": {},
   "outputs": [
    {
     "data": {
      "text/plain": [
       "<Axes: >"
      ]
     },
     "execution_count": 14,
     "metadata": {},
     "output_type": "execute_result"
    },
    {
     "data": {
      "image/png": "[encoded data removed]",
      "text/plain": [
       "<Figure size 640x480 with 2 Axes>"
      ]
     },
     "metadata": {},
     "output_type": "display_data"
    }
   ],
   "source": [
    "sns.heatmap(fulldata_corr, annot=True, cmap='coolwarm',center=0, fmt=\".2f\")"
   ]
  },
  {
   "cell_type": "code",
   "execution_count": null,
   "metadata": {},
   "outputs": [],
   "source": []
  }
 ],
 "metadata": {
  "kernelspec": {
   "display_name": "Ultrasound",
   "language": "python",
   "name": "python3"
  },
  "language_info": {
   "codemirror_mode": {
    "name": "ipython",
    "version": 3
   },
   "file_extension": ".py",
   "mimetype": "text/x-python",
   "name": "python",
   "nbconvert_exporter": "python",
   "pygments_lexer": "ipython3",
   "version": "3.11.8"
  }
 },
 "nbformat": 4,
 "nbformat_minor": 2
}
